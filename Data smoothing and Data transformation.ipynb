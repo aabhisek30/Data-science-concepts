{
 "cells": [
  {
   "cell_type": "code",
   "execution_count": 67,
   "metadata": {},
   "outputs": [],
   "source": [
    "import pandas as pd\n",
    "import matplotlib.pyplot as plt\n",
    "data = pd.read_csv(\"zomato_data.csv\")"
   ]
  },
  {
   "cell_type": "code",
   "execution_count": 63,
   "metadata": {},
   "outputs": [
    {
     "data": {
      "text/html": [
       "<div>\n",
       "<style scoped>\n",
       "    .dataframe tbody tr th:only-of-type {\n",
       "        vertical-align: middle;\n",
       "    }\n",
       "\n",
       "    .dataframe tbody tr th {\n",
       "        vertical-align: top;\n",
       "    }\n",
       "\n",
       "    .dataframe thead th {\n",
       "        text-align: right;\n",
       "    }\n",
       "</style>\n",
       "<table border=\"1\" class=\"dataframe\">\n",
       "  <thead>\n",
       "    <tr style=\"text-align: right;\">\n",
       "      <th></th>\n",
       "      <th>Unnamed: 0</th>\n",
       "      <th>NAME</th>\n",
       "      <th>PRICE</th>\n",
       "      <th>CUSINE_CATEGORY</th>\n",
       "      <th>CITY</th>\n",
       "      <th>REGION</th>\n",
       "      <th>URL</th>\n",
       "      <th>PAGE NO</th>\n",
       "      <th>CUSINE TYPE</th>\n",
       "      <th>TIMING</th>\n",
       "      <th>RATING_TYPE</th>\n",
       "      <th>RATING</th>\n",
       "      <th>VOTES</th>\n",
       "    </tr>\n",
       "  </thead>\n",
       "  <tbody>\n",
       "    <tr>\n",
       "      <th>0</th>\n",
       "      <td>0</td>\n",
       "      <td>The Salt Cafe Kitchen &amp; Bar</td>\n",
       "      <td>1000</td>\n",
       "      <td>North Indian,Continental,Italian</td>\n",
       "      <td>Agra</td>\n",
       "      <td>Tajganj</td>\n",
       "      <td>https://www.zomato.com/agra/the-salt-cafe-kitc...</td>\n",
       "      <td>1</td>\n",
       "      <td>Casual Dining</td>\n",
       "      <td>1130am to 1130pm(Mon-Sun)</td>\n",
       "      <td>Excellent</td>\n",
       "      <td>4.8</td>\n",
       "      <td>273</td>\n",
       "    </tr>\n",
       "    <tr>\n",
       "      <th>1</th>\n",
       "      <td>1</td>\n",
       "      <td>Bhagat Halwai</td>\n",
       "      <td>300</td>\n",
       "      <td>Desserts,Bakery,Fast Food,South Indian</td>\n",
       "      <td>Agra</td>\n",
       "      <td>Civil Lines</td>\n",
       "      <td>https://www.zomato.com/agra/bhagat-halwai-civi...</td>\n",
       "      <td>1</td>\n",
       "      <td>Quick Bites</td>\n",
       "      <td>730am to 11pm(Mon-Sun)</td>\n",
       "      <td>Very Good</td>\n",
       "      <td>4.3</td>\n",
       "      <td>554</td>\n",
       "    </tr>\n",
       "    <tr>\n",
       "      <th>2</th>\n",
       "      <td>2</td>\n",
       "      <td>Bikanervala</td>\n",
       "      <td>700</td>\n",
       "      <td>North Indian,South Indian,Mithai,Street Food,D...</td>\n",
       "      <td>Agra</td>\n",
       "      <td>Khandari</td>\n",
       "      <td>https://www.zomato.com/agra/bikanervala-khanda...</td>\n",
       "      <td>1</td>\n",
       "      <td>Quick Bites</td>\n",
       "      <td>8am to 11pm(Mon-Sun)</td>\n",
       "      <td>Very Good</td>\n",
       "      <td>4.4</td>\n",
       "      <td>645</td>\n",
       "    </tr>\n",
       "    <tr>\n",
       "      <th>3</th>\n",
       "      <td>3</td>\n",
       "      <td>Mama Chicken Mama Franky House</td>\n",
       "      <td>600</td>\n",
       "      <td>North Indian,Mughlai,Rolls,Chinese,Fast Food,S...</td>\n",
       "      <td>Agra</td>\n",
       "      <td>Agra Cantt</td>\n",
       "      <td>https://www.zomato.com/agra/mama-chicken-mama-...</td>\n",
       "      <td>1</td>\n",
       "      <td>Quick Bites</td>\n",
       "      <td>1230pm to 12midnight(Mon,Wed,Thu,Fri,Sat...</td>\n",
       "      <td>Very Good</td>\n",
       "      <td>4.3</td>\n",
       "      <td>894</td>\n",
       "    </tr>\n",
       "    <tr>\n",
       "      <th>4</th>\n",
       "      <td>4</td>\n",
       "      <td>Honeydew Restaurant</td>\n",
       "      <td>500</td>\n",
       "      <td>North Indian,Fast Food,Chinese,South Indian</td>\n",
       "      <td>Agra</td>\n",
       "      <td>Dayal Bagh</td>\n",
       "      <td>https://www.zomato.com/agra/honeydew-restauran...</td>\n",
       "      <td>1</td>\n",
       "      <td>Quick Bites</td>\n",
       "      <td>11am to 1035pm(Mon,Tue,Wed,Fri,Sat),11am to ...</td>\n",
       "      <td>Very Good</td>\n",
       "      <td>4.1</td>\n",
       "      <td>489</td>\n",
       "    </tr>\n",
       "  </tbody>\n",
       "</table>\n",
       "</div>"
      ],
      "text/plain": [
       "   Unnamed: 0                            NAME  PRICE  \\\n",
       "0           0     The Salt Cafe Kitchen & Bar   1000   \n",
       "1           1                   Bhagat Halwai    300   \n",
       "2           2                     Bikanervala    700   \n",
       "3           3  Mama Chicken Mama Franky House    600   \n",
       "4           4             Honeydew Restaurant    500   \n",
       "\n",
       "                                     CUSINE_CATEGORY  CITY       REGION  \\\n",
       "0                   North Indian,Continental,Italian  Agra      Tajganj   \n",
       "1             Desserts,Bakery,Fast Food,South Indian  Agra  Civil Lines   \n",
       "2  North Indian,South Indian,Mithai,Street Food,D...  Agra     Khandari   \n",
       "3  North Indian,Mughlai,Rolls,Chinese,Fast Food,S...  Agra   Agra Cantt   \n",
       "4        North Indian,Fast Food,Chinese,South Indian  Agra   Dayal Bagh   \n",
       "\n",
       "                                                 URL  PAGE NO    CUSINE TYPE  \\\n",
       "0  https://www.zomato.com/agra/the-salt-cafe-kitc...        1  Casual Dining   \n",
       "1  https://www.zomato.com/agra/bhagat-halwai-civi...        1    Quick Bites   \n",
       "2  https://www.zomato.com/agra/bikanervala-khanda...        1    Quick Bites   \n",
       "3  https://www.zomato.com/agra/mama-chicken-mama-...        1    Quick Bites   \n",
       "4  https://www.zomato.com/agra/honeydew-restauran...        1    Quick Bites   \n",
       "\n",
       "                                            TIMING RATING_TYPE RATING VOTES  \n",
       "0                        1130am to 1130pm(Mon-Sun)   Excellent    4.8   273  \n",
       "1                           730am to 11pm(Mon-Sun)   Very Good    4.3   554  \n",
       "2                             8am to 11pm(Mon-Sun)   Very Good    4.4   645  \n",
       "3      1230pm to 12midnight(Mon,Wed,Thu,Fri,Sat...   Very Good    4.3   894  \n",
       "4  11am to 1035pm(Mon,Tue,Wed,Fri,Sat),11am to ...   Very Good    4.1   489  "
      ]
     },
     "execution_count": 63,
     "metadata": {},
     "output_type": "execute_result"
    }
   ],
   "source": [
    "data.head()"
   ]
  },
  {
   "cell_type": "code",
   "execution_count": 3,
   "metadata": {},
   "outputs": [
    {
     "name": "stdout",
     "output_type": "stream",
     "text": [
      "<class 'pandas.core.frame.DataFrame'>\n",
      "RangeIndex: 105623 entries, 0 to 105622\n",
      "Data columns (total 13 columns):\n",
      " #   Column           Non-Null Count   Dtype \n",
      "---  ------           --------------   ----- \n",
      " 0   Unnamed: 0       105623 non-null  int64 \n",
      " 1   NAME             105623 non-null  object\n",
      " 2   PRICE            105623 non-null  int64 \n",
      " 3   CUSINE_CATEGORY  105558 non-null  object\n",
      " 4   CITY             105623 non-null  object\n",
      " 5   REGION           105623 non-null  object\n",
      " 6   URL              105623 non-null  object\n",
      " 7   PAGE NO          105623 non-null  int64 \n",
      " 8   CUSINE TYPE      105623 non-null  object\n",
      " 9   TIMING           104982 non-null  object\n",
      " 10  RATING_TYPE      105623 non-null  object\n",
      " 11  RATING           105623 non-null  object\n",
      " 12  VOTES            105623 non-null  object\n",
      "dtypes: int64(3), object(10)\n",
      "memory usage: 10.5+ MB\n"
     ]
    }
   ],
   "source": [
    "data.info()"
   ]
  },
  {
   "cell_type": "markdown",
   "metadata": {},
   "source": [
    "#### I am using price column of zomato dataset to apply data smoothing and data transformation techniques"
   ]
  },
  {
   "cell_type": "markdown",
   "metadata": {},
   "source": [
    "we can see that price data is highly left skewed"
   ]
  },
  {
   "cell_type": "code",
   "execution_count": 19,
   "metadata": {},
   "outputs": [],
   "source": [
    "import statistics as st \n",
    "def stats(price):\n",
    "    minm = min(price)\n",
    "    maxm = max(price)\n",
    "    median = st.median(price)\n",
    "    mean = st.mean(price)\n",
    "    pstdev = st.pstdev(price)\n",
    "    return minm,maxm,median,mean,pstdev\n",
    "min_price,max_price,median_price,mean_price,pstdev_price = stats(data[\"PRICE\"])"
   ]
  },
  {
   "cell_type": "markdown",
   "metadata": {},
   "source": [
    "## Data smoothing"
   ]
  },
  {
   "cell_type": "code",
   "execution_count": 98,
   "metadata": {},
   "outputs": [],
   "source": [
    "def bin_mean_smoothing(data,bin_size=5):\n",
    "    bin_mean = []\n",
    "    for iterator in range(0,len(data),bin_size):\n",
    "        data_mean = st.mean(data[iterator:iterator+bin_size])\n",
    "        for i in range(bin_size):\n",
    "            bin_mean.append(data_mean)\n",
    "    return bin_mean"
   ]
  },
  {
   "cell_type": "code",
   "execution_count": 94,
   "metadata": {},
   "outputs": [],
   "source": [
    "def bin_median_smoothing(data,bin_size=5):\n",
    "    bin_median = []\n",
    "    for iterator in range(0,len(data),bin_size):\n",
    "        data_median = st.median(data[iterator:iterator+bin_size])\n",
    "        for i in range(bin_size):\n",
    "            bin_median.append(data_median)\n",
    "    return bin_median"
   ]
  },
  {
   "cell_type": "code",
   "execution_count": 53,
   "metadata": {},
   "outputs": [],
   "source": [
    "def boundary_bin_smoothing(data,bin_size=5):\n",
    "    bin_boundary = []\n",
    "    for iterator in range(0,len(data),bin_size):\n",
    "        half_bin_size = int(bin_size/2)\n",
    "        data_min = min(data[iterator:iterator+bin_size])\n",
    "        data_max = max(data[iterator:iterator+bin_size])\n",
    "        for i in range(half_bin_size):\n",
    "            bin_boundary.append(data_min)\n",
    "        for i in range(half_bin_size+1):\n",
    "            bin_boundary.append(data_max)\n",
    "    return bin_boundary"
   ]
  },
  {
   "cell_type": "code",
   "execution_count": 99,
   "metadata": {},
   "outputs": [],
   "source": [
    "data_price = data[\"PRICE\"].sort_values()\n",
    "bin_mean = bin_mean_smoothing(data_price)\n",
    "bin_median = bin_median_smoothing(data_price)\n",
    "bin_boundary = boundary_bin_smoothing(data_price)"
   ]
  },
  {
   "cell_type": "markdown",
   "metadata": {},
   "source": [
    "## Data Transformation"
   ]
  },
  {
   "cell_type": "code",
   "execution_count": 112,
   "metadata": {},
   "outputs": [],
   "source": [
    "def min_max_trans(data):\n",
    "    min_max_tran = []\n",
    "    minm = min(data)\n",
    "    maxm = max(data)\n",
    "    for iterator in range(0,len(data)):\n",
    "        min_max_tran.append((data[iterator]-minm)/(maxm-minm))\n",
    "    return min_max_tran"
   ]
  },
  {
   "cell_type": "code",
   "execution_count": 106,
   "metadata": {},
   "outputs": [],
   "source": [
    "def z_score_trans(data):\n",
    "    z_score = []\n",
    "    mean = st.mean(data)\n",
    "    pstdev = st.pstdev(data)\n",
    "    for iterator in range(0,len(data)):\n",
    "        z_score.append((data[iterator])-mean/pstdev)\n",
    "    return z_score"
   ]
  },
  {
   "cell_type": "code",
   "execution_count": 113,
   "metadata": {},
   "outputs": [],
   "source": [
    "data_price = data[\"PRICE\"]\n",
    "min_max_price = min_max_trans(data_price)\n",
    "z_score_price= z_score_trans(data_price)"
   ]
  }
 ],
 "metadata": {
  "kernelspec": {
   "display_name": "Python 3",
   "language": "python",
   "name": "python3"
  },
  "language_info": {
   "codemirror_mode": {
    "name": "ipython",
    "version": 3
   },
   "file_extension": ".py",
   "mimetype": "text/x-python",
   "name": "python",
   "nbconvert_exporter": "python",
   "pygments_lexer": "ipython3",
   "version": "3.8.3"
  }
 },
 "nbformat": 4,
 "nbformat_minor": 4
}
