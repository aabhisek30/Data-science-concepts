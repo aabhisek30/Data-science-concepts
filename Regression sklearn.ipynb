{
 "cells": [
  {
   "cell_type": "markdown",
   "metadata": {
    "id": "1Sypnvl1y1HW"
   },
   "source": [
    "## Implementating Linear regression by sklearn"
   ]
  },
  {
   "cell_type": "markdown",
   "metadata": {
    "id": "3smcBvPg2p6L"
   },
   "source": [
    "Data set - Boston housing dataset\n"
   ]
  },
  {
   "cell_type": "markdown",
   "metadata": {
    "id": "cZjk-7mr5jP3"
   },
   "source": [
    "Importing all the library required to perform the experiment"
   ]
  },
  {
   "cell_type": "code",
   "execution_count": 1,
   "metadata": {
    "executionInfo": {
     "elapsed": 2952,
     "status": "ok",
     "timestamp": 1607529085965,
     "user": {
      "displayName": "SHARMA ABHISEK",
      "photoUrl": "",
      "userId": "17846234440817976562"
     },
     "user_tz": -330
    },
    "id": "mYFgzy6J5ezB"
   },
   "outputs": [],
   "source": [
    "import numpy as np \n",
    "import math\n",
    "from sklearn import datasets, metrics\n",
    "from sklearn.preprocessing import StandardScaler \n",
    "from sklearn import linear_model, metrics \n",
    "import matplotlib.pyplot as plt"
   ]
  },
  {
   "cell_type": "code",
   "execution_count": 2,
   "metadata": {},
   "outputs": [],
   "source": [
    "import warnings\n",
    "warnings.filterwarnings(\"ignore\")"
   ]
  },
  {
   "cell_type": "markdown",
   "metadata": {
    "id": "xiZidzMf24I0"
   },
   "source": [
    "### mean absolute error and mean square error for different number of iterations"
   ]
  },
  {
   "cell_type": "markdown",
   "metadata": {
    "id": "uJBvTtWy6AyI"
   },
   "source": [
    "Loading the dataset and splitting into train and test dataset"
   ]
  },
  {
   "cell_type": "code",
   "execution_count": 3,
   "metadata": {
    "executionInfo": {
     "elapsed": 1411,
     "status": "ok",
     "timestamp": 1607529090266,
     "user": {
      "displayName": "SHARMA ABHISEK",
      "photoUrl": "",
      "userId": "17846234440817976562"
     },
     "user_tz": -330
    },
    "id": "tmTRw6dQ6CX_"
   },
   "outputs": [],
   "source": [
    "#loading the dataset\n",
    "X, y = datasets.load_boston(return_X_y=True) \n",
    "#Spltting dataset into test and train dataset\n",
    "X_train=X[0:400,:] \n",
    "y_train=y[0:400] \n",
    "X_test=X[400:506,:] \n",
    "y_test=y[400:506] "
   ]
  },
  {
   "cell_type": "markdown",
   "metadata": {
    "id": "A0x3fKE57aa0"
   },
   "source": [
    "Doing scailing of the dataset"
   ]
  },
  {
   "cell_type": "code",
   "execution_count": 4,
   "metadata": {
    "executionInfo": {
     "elapsed": 1743,
     "status": "ok",
     "timestamp": 1607529093739,
     "user": {
      "displayName": "SHARMA ABHISEK",
      "photoUrl": "",
      "userId": "17846234440817976562"
     },
     "user_tz": -330
    },
    "id": "oCcbDkzW7YEj"
   },
   "outputs": [],
   "source": [
    "#Creating the instance of standardScalar\n",
    "scaler=StandardScaler() \n",
    "#Do scailing of the object\n",
    "scaler.fit(X_train[:,1:]) \n",
    "X_train[:,1:]=scaler.transform(X_train[:,1:])\n",
    "X_test[:,1:]=scaler.transform(X_test[:,1:])"
   ]
  },
  {
   "cell_type": "markdown",
   "metadata": {
    "id": "9QdE7KGU7gTN"
   },
   "source": [
    "Creating linear regression object for different number of iterations"
   ]
  },
  {
   "cell_type": "code",
   "execution_count": 5,
   "metadata": {
    "id": "0tn7q-jVHFBV",
    "scrolled": true
   },
   "outputs": [],
   "source": [
    "mean_absolute_errors = []\n",
    "mean_squared_errors = []\n",
    "iterations = [i for i in range(10,1000)]\n",
    "for iteration in iterations:\n",
    "  # Create linear regression object\n",
    "  regr = linear_model.SGDRegressor(max_iter=iteration,alpha=0.01,eta0=0.002) \n",
    "  # Train the model using the training sets \n",
    "  regr.fit(X_train, y_train)\n",
    "  predictions=regr.predict(X_test) \n",
    "  mean_absolute_errors.append(metrics.mean_absolute_error(y_test,predictions))\n",
    "  mean_squared_errors.append(metrics.mean_squared_error(y_test,predictions))"
   ]
  },
  {
   "cell_type": "markdown",
   "metadata": {
    "id": "SSwz4awY8Bx1"
   },
   "source": [
    "### plot the graph of MSE vs number of iterations, MAE vs number of iterations"
   ]
  },
  {
   "cell_type": "markdown",
   "metadata": {
    "id": "aCkYl5_2812t"
   },
   "source": [
    "Plot 1- Mean square error vs number of iterations"
   ]
  },
  {
   "cell_type": "code",
   "execution_count": 23,
   "metadata": {
    "colab": {
     "base_uri": "https://localhost:8080/",
     "height": 295
    },
    "executionInfo": {
     "elapsed": 1615,
     "status": "ok",
     "timestamp": 1607529779189,
     "user": {
      "displayName": "SHARMA ABHISEK",
      "photoUrl": "",
      "userId": "17846234440817976562"
     },
     "user_tz": -330
    },
    "id": "4hzYCCGkWJwy",
    "outputId": "dc4dc491-3b16-4c27-ca8e-d75c7f83beb2"
   },
   "outputs": [
    {
     "data": {
      "image/png": "[encoded data removed]",
      "text/plain": [
       "<Figure size 432x288 with 1 Axes>"
      ]
     },
     "metadata": {
      "needs_background": "light"
     },
     "output_type": "display_data"
    }
   ],
   "source": [
    "plt.plot(iterations,mean_squared_errors)\n",
    "plt.xlabel(\"iterations\")\n",
    "plt.ylabel(\"mean_square_error\")\n",
    "plt.title(\"mean squared error vs iterations\")\n",
    "plt.show()"
   ]
  },
  {
   "cell_type": "markdown",
   "metadata": {
    "id": "_EX_jX_L9ecF"
   },
   "source": [
    "Plot 2- Mean absolute error vs number of iterations"
   ]
  },
  {
   "cell_type": "code",
   "execution_count": 24,
   "metadata": {
    "colab": {
     "base_uri": "https://localhost:8080/",
     "height": 295
    },
    "executionInfo": {
     "elapsed": 1482,
     "status": "ok",
     "timestamp": 1607529784694,
     "user": {
      "displayName": "SHARMA ABHISEK",
      "photoUrl": "",
      "userId": "17846234440817976562"
     },
     "user_tz": -330
    },
    "id": "YvMIhgmtXx9w",
    "outputId": "5ed51791-2619-4035-ce25-c27f903b0922"
   },
   "outputs": [
    {
     "data": {
      "image/png": "[encoded data removed]",
      "text/plain": [
       "<Figure size 432x288 with 1 Axes>"
      ]
     },
     "metadata": {
      "needs_background": "light"
     },
     "output_type": "display_data"
    }
   ],
   "source": [
    "plt.plot(iterations,mean_absolute_errors)\n",
    "plt.xlabel(\"iterations\")\n",
    "plt.ylabel(\"mean_absolute_error\")\n",
    "plt.title(\"mean_absolute error vs iterations\")\n",
    "plt.show()"
   ]
  },
  {
   "cell_type": "markdown",
   "metadata": {
    "id": "dQWdGqwG9oWE"
   },
   "source": [
    "Plot 3- MAE and MSE vs number of iterations"
   ]
  },
  {
   "cell_type": "code",
   "execution_count": 39,
   "metadata": {
    "colab": {
     "base_uri": "https://localhost:8080/",
     "height": 295
    },
    "executionInfo": {
     "elapsed": 1874,
     "status": "ok",
     "timestamp": 1607529789783,
     "user": {
      "displayName": "SHARMA ABHISEK",
      "photoUrl": "",
      "userId": "17846234440817976562"
     },
     "user_tz": -330
    },
    "id": "WbkJuNNP2Gx2",
    "outputId": "5f5d457b-9433-4e33-ee93-f610611ace62"
   },
   "outputs": [
    {
     "data": {
      "image/png": "[encoded data removed]",
      "text/plain": [
       "<Figure size 432x288 with 1 Axes>"
      ]
     },
     "metadata": {
      "needs_background": "light",
      "tags": []
     },
     "output_type": "display_data"
    }
   ],
   "source": [
    "plt.plot(iterations,mean_absolute_errors,label=\"Mean absolute error\")\n",
    "plt.plot(iterations,mean_squared_errors,label=\"Mean square error\")\n",
    "plt.xlabel(\"iterations\")\n",
    "plt.ylabel(\"error\")\n",
    "plt.title(\"error vs iterations\")\n",
    "plt.legend()\n",
    "plt.show()"
   ]
  },
  {
   "cell_type": "markdown",
   "metadata": {
    "id": "IQ2C5ajF9vaT"
   },
   "source": [
    "In plot 3, as MAE and MSE are different scale , we donot get suitable graph comparsion"
   ]
  },
  {
   "cell_type": "markdown",
   "metadata": {
    "id": "H_AMmZRz99BP"
   },
   "source": [
    "# Observation:-\n",
    "1. After a certain number of iterations , MSE and MAE become constant satisfying the elbow method theory\n",
    "2. Hence we can say that high number of iterations doesnot reduces error "
   ]
  }
 ],
 "metadata": {
  "colab": {
   "name": "Regression sklearn.ipynb",
   "provenance": []
  },
  "kernelspec": {
   "display_name": "Python 3",
   "language": "python",
   "name": "python3"
  },
  "language_info": {
   "codemirror_mode": {
    "name": "ipython",
    "version": 3
   },
   "file_extension": ".py",
   "mimetype": "text/x-python",
   "name": "python",
   "nbconvert_exporter": "python",
   "pygments_lexer": "ipython3",
   "version": "3.8.3"
  }
 },
 "nbformat": 4,
 "nbformat_minor": 1
}
