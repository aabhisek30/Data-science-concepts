{
 "cells": [
  {
   "cell_type": "markdown",
   "metadata": {},
   "source": [
    "## Aim - Implement KNN algorithm"
   ]
  },
  {
   "cell_type": "markdown",
   "metadata": {},
   "source": [
    "Importing library required for experiment"
   ]
  },
  {
   "cell_type": "code",
   "execution_count": 3,
   "metadata": {},
   "outputs": [],
   "source": [
    "from sklearn import neighbors\n",
    "from sklearn import datasets\n",
    "from sklearn.metrics import classification_report,confusion_matrix,accuracy_score\n",
    "from sklearn.model_selection import train_test_split\n",
    "import matplotlib.pyplot as plt"
   ]
  },
  {
   "cell_type": "markdown",
   "metadata": {},
   "source": [
    "Loading data and splitting it"
   ]
  },
  {
   "cell_type": "code",
   "execution_count": 4,
   "metadata": {},
   "outputs": [],
   "source": [
    "X,y=datasets.load_iris(return_X_y=True)\n",
    "X_train=X[range(0,150,2),:]\n",
    "y_train=y[range(0,150,2)]\n",
    "X_test=X[range(1,150,2),:]\n",
    "y_test=y[range(1,150,2)]"
   ]
  },
  {
   "cell_type": "markdown",
   "metadata": {},
   "source": [
    "Defining function of k_parameter which calculating accuracy for different points"
   ]
  },
  {
   "cell_type": "code",
   "execution_count": 7,
   "metadata": {},
   "outputs": [],
   "source": [
    "accuracy_uniform = []\n",
    "accuracy_distance = []\n",
    "def k_parameter(k,parameter):\n",
    "    clf = neighbors.KNeighborsClassifier(n_neighbors=k, weights=parameter)\n",
    "    clf.fit(X_train, y_train)\n",
    "    prediction = clf.predict(X_test) \n",
    "    if parameter == \"uniform\":\n",
    "        accuracy_uniform.append(accuracy_score(y_test, prediction, normalize=True))\n",
    "    else:\n",
    "        accuracy_distance.append(accuracy_score(y_test, prediction, normalize=True))"
   ]
  },
  {
   "cell_type": "markdown",
   "metadata": {},
   "source": [
    "Using for loop to call the function k_paramter for each point two times uniform and distance"
   ]
  },
  {
   "cell_type": "code",
   "execution_count": 8,
   "metadata": {},
   "outputs": [],
   "source": [
    "k_NN = [i for i in range(1,75)]\n",
    "for i in k_NN: \n",
    "    k_parameter(i,\"uniform\")\n",
    "    k_parameter(i,\"distance\")"
   ]
  },
  {
   "cell_type": "markdown",
   "metadata": {},
   "source": [
    "printing the result of accuracy uniform an accuracy distance"
   ]
  },
  {
   "cell_type": "code",
   "execution_count": 9,
   "metadata": {},
   "outputs": [
    {
     "name": "stdout",
     "output_type": "stream",
     "text": [
      "accuracy uniform [0.96, 0.9733333333333334, 0.96, 0.9466666666666667, 0.9866666666666667, 0.9733333333333334, 0.9866666666666667, 0.9733333333333334, 0.9866666666666667, 0.92, 0.92, 0.92, 0.9466666666666667, 0.9333333333333333, 0.92, 0.92, 0.92, 0.9333333333333333, 0.92, 0.9333333333333333, 0.9333333333333333, 0.92, 0.92, 0.9066666666666666, 0.9333333333333333, 0.9066666666666666, 0.9333333333333333, 0.9066666666666666, 0.9066666666666666, 0.8933333333333333, 0.8933333333333333, 0.8933333333333333, 0.8933333333333333, 0.8933333333333333, 0.92, 0.88, 0.9066666666666666, 0.9066666666666666, 0.92, 0.9066666666666666, 0.92, 0.9066666666666666, 0.9333333333333333, 0.9066666666666666, 0.9066666666666666, 0.8933333333333333, 0.8933333333333333, 0.88, 0.8933333333333333, 0.6666666666666666, 0.6666666666666666, 0.6666666666666666, 0.6533333333333333, 0.6666666666666666, 0.6666666666666666, 0.6666666666666666, 0.6666666666666666, 0.6666666666666666, 0.64, 0.64, 0.64, 0.64, 0.64, 0.64, 0.64, 0.64, 0.64, 0.64, 0.64, 0.64, 0.6266666666666667, 0.6133333333333333, 0.56, 0.5333333333333333]\n",
      "**************************************************\n",
      "accuracy distance [0.96, 0.96, 0.96, 0.96, 0.9866666666666667, 0.9866666666666667, 0.9866666666666667, 0.9866666666666667, 0.9866666666666667, 0.9733333333333334, 0.96, 0.9733333333333334, 0.9733333333333334, 0.9733333333333334, 0.9466666666666667, 0.96, 0.96, 0.96, 0.96, 0.96, 0.96, 0.96, 0.96, 0.9733333333333334, 0.9733333333333334, 0.9733333333333334, 0.9733333333333334, 0.9733333333333334, 0.9733333333333334, 0.9333333333333333, 0.96, 0.9466666666666667, 0.96, 0.96, 0.9733333333333334, 0.9466666666666667, 0.9466666666666667, 0.9466666666666667, 0.96, 0.9466666666666667, 0.9466666666666667, 0.96, 0.96, 0.9733333333333334, 0.96, 0.96, 0.96, 0.96, 0.96, 0.96, 0.96, 0.96, 0.96, 0.96, 0.96, 0.96, 0.96, 0.96, 0.96, 0.96, 0.96, 0.96, 0.96, 0.96, 0.96, 0.96, 0.96, 0.96, 0.96, 0.96, 0.96, 0.96, 0.96, 0.96]\n"
     ]
    }
   ],
   "source": [
    "print(\"accuracy uniform\",accuracy_uniform)\n",
    "print(\"*\"*50)\n",
    "print(\"accuracy distance\",accuracy_distance)"
   ]
  },
  {
   "cell_type": "markdown",
   "metadata": {},
   "source": [
    "Plotting the graph of k_NN for uniform and distance weight"
   ]
  },
  {
   "cell_type": "code",
   "execution_count": 10,
   "metadata": {},
   "outputs": [
    {
     "data": {
      "image/png": "[encoded data removed]",
      "text/plain": [
       "<Figure size 432x288 with 1 Axes>"
      ]
     },
     "metadata": {
      "needs_background": "light"
     },
     "output_type": "display_data"
    }
   ],
   "source": [
    "plt.plot(k_NN,accuracy_uniform,label=\"uniform weight\")\n",
    "plt.plot(k_NN,accuracy_distance,label=\"distance weight\")\n",
    "plt.legend()\n",
    "plt.show()"
   ]
  },
  {
   "cell_type": "markdown",
   "metadata": {},
   "source": [
    "# Conclusion \n",
    "\n",
    "1. For uniform weight, classes of all the neighbours of the query point will have same weightage, so it will create problem in deciding class label as number of the neighbours increases. Hence accuarcy decreases .\n",
    "2. For distance weight, classes of all the neighbours of the query point will have weightage inversely proporitonal to the distance, hence the neighbour which are near to the query point will have more weightage in comparsion to the query point who have less weightage.\n",
    "3. Hence accuracy decreases in case of uniform weight but not in case of distance weight\n",
    "\n"
   ]
  }
 ],
 "metadata": {
  "kernelspec": {
   "display_name": "Python 3",
   "language": "python",
   "name": "python3"
  },
  "language_info": {
   "codemirror_mode": {
    "name": "ipython",
    "version": 3
   },
   "file_extension": ".py",
   "mimetype": "text/x-python",
   "name": "python",
   "nbconvert_exporter": "python",
   "pygments_lexer": "ipython3",
   "version": "3.8.3"
  }
 },
 "nbformat": 4,
 "nbformat_minor": 4
}
