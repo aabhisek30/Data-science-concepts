{
 "cells": [
  {
   "cell_type": "code",
   "execution_count": 1,
   "metadata": {},
   "outputs": [],
   "source": [
    "import pandas as pd\n",
    "data = pd.read_csv(\"zomato_data.csv\")"
   ]
  },
  {
   "cell_type": "code",
   "execution_count": 2,
   "metadata": {},
   "outputs": [
    {
     "data": {
      "text/html": [
       "<div>\n",
       "<style scoped>\n",
       "    .dataframe tbody tr th:only-of-type {\n",
       "        vertical-align: middle;\n",
       "    }\n",
       "\n",
       "    .dataframe tbody tr th {\n",
       "        vertical-align: top;\n",
       "    }\n",
       "\n",
       "    .dataframe thead th {\n",
       "        text-align: right;\n",
       "    }\n",
       "</style>\n",
       "<table border=\"1\" class=\"dataframe\">\n",
       "  <thead>\n",
       "    <tr style=\"text-align: right;\">\n",
       "      <th></th>\n",
       "      <th>Unnamed: 0</th>\n",
       "      <th>NAME</th>\n",
       "      <th>PRICE</th>\n",
       "      <th>CUSINE_CATEGORY</th>\n",
       "      <th>CITY</th>\n",
       "      <th>REGION</th>\n",
       "      <th>URL</th>\n",
       "      <th>PAGE NO</th>\n",
       "      <th>CUSINE TYPE</th>\n",
       "      <th>TIMING</th>\n",
       "      <th>RATING_TYPE</th>\n",
       "      <th>RATING</th>\n",
       "      <th>VOTES</th>\n",
       "    </tr>\n",
       "  </thead>\n",
       "  <tbody>\n",
       "    <tr>\n",
       "      <th>0</th>\n",
       "      <td>0</td>\n",
       "      <td>The Salt Cafe Kitchen &amp; Bar</td>\n",
       "      <td>1000</td>\n",
       "      <td>North Indian,Continental,Italian</td>\n",
       "      <td>Agra</td>\n",
       "      <td>Tajganj</td>\n",
       "      <td>https://www.zomato.com/agra/the-salt-cafe-kitc...</td>\n",
       "      <td>1</td>\n",
       "      <td>Casual Dining</td>\n",
       "      <td>1130am to 1130pm(Mon-Sun)</td>\n",
       "      <td>Excellent</td>\n",
       "      <td>4.8</td>\n",
       "      <td>273</td>\n",
       "    </tr>\n",
       "    <tr>\n",
       "      <th>1</th>\n",
       "      <td>1</td>\n",
       "      <td>Bhagat Halwai</td>\n",
       "      <td>300</td>\n",
       "      <td>Desserts,Bakery,Fast Food,South Indian</td>\n",
       "      <td>Agra</td>\n",
       "      <td>Civil Lines</td>\n",
       "      <td>https://www.zomato.com/agra/bhagat-halwai-civi...</td>\n",
       "      <td>1</td>\n",
       "      <td>Quick Bites</td>\n",
       "      <td>730am to 11pm(Mon-Sun)</td>\n",
       "      <td>Very Good</td>\n",
       "      <td>4.3</td>\n",
       "      <td>554</td>\n",
       "    </tr>\n",
       "    <tr>\n",
       "      <th>2</th>\n",
       "      <td>2</td>\n",
       "      <td>Bikanervala</td>\n",
       "      <td>700</td>\n",
       "      <td>North Indian,South Indian,Mithai,Street Food,D...</td>\n",
       "      <td>Agra</td>\n",
       "      <td>Khandari</td>\n",
       "      <td>https://www.zomato.com/agra/bikanervala-khanda...</td>\n",
       "      <td>1</td>\n",
       "      <td>Quick Bites</td>\n",
       "      <td>8am to 11pm(Mon-Sun)</td>\n",
       "      <td>Very Good</td>\n",
       "      <td>4.4</td>\n",
       "      <td>645</td>\n",
       "    </tr>\n",
       "    <tr>\n",
       "      <th>3</th>\n",
       "      <td>3</td>\n",
       "      <td>Mama Chicken Mama Franky House</td>\n",
       "      <td>600</td>\n",
       "      <td>North Indian,Mughlai,Rolls,Chinese,Fast Food,S...</td>\n",
       "      <td>Agra</td>\n",
       "      <td>Agra Cantt</td>\n",
       "      <td>https://www.zomato.com/agra/mama-chicken-mama-...</td>\n",
       "      <td>1</td>\n",
       "      <td>Quick Bites</td>\n",
       "      <td>1230pm to 12midnight(Mon,Wed,Thu,Fri,Sat...</td>\n",
       "      <td>Very Good</td>\n",
       "      <td>4.3</td>\n",
       "      <td>894</td>\n",
       "    </tr>\n",
       "    <tr>\n",
       "      <th>4</th>\n",
       "      <td>4</td>\n",
       "      <td>Honeydew Restaurant</td>\n",
       "      <td>500</td>\n",
       "      <td>North Indian,Fast Food,Chinese,South Indian</td>\n",
       "      <td>Agra</td>\n",
       "      <td>Dayal Bagh</td>\n",
       "      <td>https://www.zomato.com/agra/honeydew-restauran...</td>\n",
       "      <td>1</td>\n",
       "      <td>Quick Bites</td>\n",
       "      <td>11am to 1035pm(Mon,Tue,Wed,Fri,Sat),11am to ...</td>\n",
       "      <td>Very Good</td>\n",
       "      <td>4.1</td>\n",
       "      <td>489</td>\n",
       "    </tr>\n",
       "  </tbody>\n",
       "</table>\n",
       "</div>"
      ],
      "text/plain": [
       "   Unnamed: 0                            NAME  PRICE  \\\n",
       "0           0     The Salt Cafe Kitchen & Bar   1000   \n",
       "1           1                   Bhagat Halwai    300   \n",
       "2           2                     Bikanervala    700   \n",
       "3           3  Mama Chicken Mama Franky House    600   \n",
       "4           4             Honeydew Restaurant    500   \n",
       "\n",
       "                                     CUSINE_CATEGORY  CITY       REGION  \\\n",
       "0                   North Indian,Continental,Italian  Agra      Tajganj   \n",
       "1             Desserts,Bakery,Fast Food,South Indian  Agra  Civil Lines   \n",
       "2  North Indian,South Indian,Mithai,Street Food,D...  Agra     Khandari   \n",
       "3  North Indian,Mughlai,Rolls,Chinese,Fast Food,S...  Agra   Agra Cantt   \n",
       "4        North Indian,Fast Food,Chinese,South Indian  Agra   Dayal Bagh   \n",
       "\n",
       "                                                 URL  PAGE NO    CUSINE TYPE  \\\n",
       "0  https://www.zomato.com/agra/the-salt-cafe-kitc...        1  Casual Dining   \n",
       "1  https://www.zomato.com/agra/bhagat-halwai-civi...        1    Quick Bites   \n",
       "2  https://www.zomato.com/agra/bikanervala-khanda...        1    Quick Bites   \n",
       "3  https://www.zomato.com/agra/mama-chicken-mama-...        1    Quick Bites   \n",
       "4  https://www.zomato.com/agra/honeydew-restauran...        1    Quick Bites   \n",
       "\n",
       "                                            TIMING RATING_TYPE RATING VOTES  \n",
       "0                        1130am to 1130pm(Mon-Sun)   Excellent    4.8   273  \n",
       "1                           730am to 11pm(Mon-Sun)   Very Good    4.3   554  \n",
       "2                             8am to 11pm(Mon-Sun)   Very Good    4.4   645  \n",
       "3      1230pm to 12midnight(Mon,Wed,Thu,Fri,Sat...   Very Good    4.3   894  \n",
       "4  11am to 1035pm(Mon,Tue,Wed,Fri,Sat),11am to ...   Very Good    4.1   489  "
      ]
     },
     "execution_count": 2,
     "metadata": {},
     "output_type": "execute_result"
    }
   ],
   "source": [
    "data.head()\n"
   ]
  },
  {
   "cell_type": "code",
   "execution_count": 3,
   "metadata": {},
   "outputs": [],
   "source": [
    "price = list(data[\"PRICE\"])"
   ]
  },
  {
   "cell_type": "markdown",
   "metadata": {},
   "source": [
    "PRICE column"
   ]
  },
  {
   "cell_type": "code",
   "execution_count": 5,
   "metadata": {},
   "outputs": [
    {
     "name": "stdout",
     "output_type": "stream",
     "text": [
      "The number of samples in price population 105623\n",
      "The max value in price population 6000\n",
      "The min value in price population 0\n",
      "The mean of samples in price population 416.9548299139392\n",
      "The standard deviation of samples in price population 271.2626996065808\n",
      "The Median of samples in price population 350.0\n"
     ]
    }
   ],
   "source": [
    "import numpy as np\n",
    "print(\"The number of samples in price population\",len(price))\n",
    "print(\"The max value in price population\",max(price))\n",
    "print(\"The min value in price population\",min(price))\n",
    "print(\"The mean of samples in price population\",np.mean(price))\n",
    "print(\"The standard deviation of samples in price population\",np.std(price))\n",
    "print(\"The Median of samples in price population\",np.median(price))"
   ]
  },
  {
   "cell_type": "markdown",
   "metadata": {},
   "source": [
    "### population parameters"
   ]
  },
  {
   "cell_type": "code",
   "execution_count": 6,
   "metadata": {},
   "outputs": [
    {
     "name": "stdout",
     "output_type": "stream",
     "text": [
      "The mean of the population of the price column 416.9548299139392\n",
      "The std of the population of the price column 271.2626996065808\n"
     ]
    }
   ],
   "source": [
    "import numpy as np\n",
    "pop_mean = np.mean(price)\n",
    "pop_std = np.std(price)\n",
    "print(\"The mean of the population of the price column\",pop_mean)\n",
    "print(\"The std of the population of the price column\",pop_std)"
   ]
  },
  {
   "cell_type": "markdown",
   "metadata": {},
   "source": [
    "### Stimulation of the central limit theorem"
   ]
  },
  {
   "cell_type": "code",
   "execution_count": 7,
   "metadata": {},
   "outputs": [],
   "source": [
    "from random import sample\n",
    "from math import sqrt"
   ]
  },
  {
   "cell_type": "code",
   "execution_count": 8,
   "metadata": {},
   "outputs": [],
   "source": [
    "def report(no_of_sample,no_of_repetation,mean_iteration,pop_mean,pop_std):\n",
    "    \"\"\"\n",
    "    It prints how CLT stimulated parameters from original data\n",
    "    \"\"\"\n",
    "    print(\"No of sample taken\",no_of_sample)\n",
    "    print(\"No of repetation taken\",no_of_repetation)\n",
    "    print(\"The population mean\",pop_mean)\n",
    "    print(\"The mean of mean of the sample\",np.mean(mean_iteration))\n",
    "    print(\"The deviation of mean\",abs(pop_mean-np.mean(mean_iteration)))\n",
    "    print(\"The Expected stdev from CLT\",pop_std/sqrt(no_of_sample))\n",
    "    print(\"The stdev of mean of the sample\",np.std(mean_iteration))\n",
    "    print(\"The deviation of stdev\",abs(pop_std/sqrt(no_of_sample)-np.std(mean_iteration)))"
   ]
  },
  {
   "cell_type": "code",
   "execution_count": 1,
   "metadata": {},
   "outputs": [],
   "source": [
    "import matplotlib.pyplot as plt\n",
    "import numpy as np\n",
    "def CLT(no_of_sample,no_of_repetation):\n",
    "    \"\"\"\n",
    "    It samples data from original data according to the paramters and than plot PDF of means of the sample\n",
    "    \"\"\"\n",
    "    mean_iteration = []\n",
    "    for iteration in range(no_of_repetation):\n",
    "        sample_set = sample(price,no_of_sample)\n",
    "        mean_iteration.append(np.mean(sample_set))\n",
    "    mean_sample = pd.Series(mean_iteration)\n",
    "    counts,bin_edges = np.histogram(mean_sample,bins = 10,density = True)\n",
    "    pdf = counts/(sum(counts))\n",
    "    plt.plot(bin_edges[1:],pdf)\n",
    "    plt.title(\"pdf of the means of the sample\")\n",
    "    plt.xlabel(\"mean\")\n",
    "    plt.ylabel(\"probaility\")\n",
    "    plt.show()\n",
    "    print(\"Note about the exercise\")\n",
    "    report(no_of_sample,no_of_repetation,mean_iteration,pop_mean,pop_std)"
   ]
  },
  {
   "cell_type": "code",
   "execution_count": 10,
   "metadata": {},
   "outputs": [
    {
     "name": "stdout",
     "output_type": "stream",
     "text": [
      "Enter the no of sample to choose100\n",
      "Enter the no of time process to be repeated500\n"
     ]
    },
    {
     "data": {
      "image/png": "[encoded data removed]",
      "text/plain": [
       "<Figure size 432x288 with 1 Axes>"
      ]
     },
     "metadata": {
      "needs_background": "light"
     },
     "output_type": "display_data"
    },
    {
     "name": "stdout",
     "output_type": "stream",
     "text": [
      "Note about the exercise\n",
      "No of sample taken 100\n",
      "No of repetation taken 500\n",
      "The population mean 416.9548299139392\n",
      "The mean of mean of the sample 416.6565\n",
      "The deviation of mean 0.29832991393919883\n",
      "The Expected stdev from CLT 27.126269960658078\n",
      "The stdev of mean of the sample 26.718991372243075\n",
      "The deviation of stdev 0.40727858841500364\n"
     ]
    }
   ],
   "source": [
    "no_of_sample = int(input(\"Enter the no of sample to choose\"))\n",
    "no_of_repetation = int(input(\"Enter the no of time process to be repeated\"))\n",
    "CLT(no_of_sample,no_of_repetation)"
   ]
  }
 ],
 "metadata": {
  "kernelspec": {
   "display_name": "Python 3",
   "language": "python",
   "name": "python3"
  },
  "language_info": {
   "codemirror_mode": {
    "name": "ipython",
    "version": 3
   },
   "file_extension": ".py",
   "mimetype": "text/x-python",
   "name": "python",
   "nbconvert_exporter": "python",
   "pygments_lexer": "ipython3",
   "version": "3.8.3"
  }
 },
 "nbformat": 4,
 "nbformat_minor": 4
}
