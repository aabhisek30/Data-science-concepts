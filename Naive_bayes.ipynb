{
 "cells": [
  {
   "cell_type": "code",
   "execution_count": 1,
   "metadata": {
    "id": "5yGACTDSojPk"
   },
   "outputs": [],
   "source": [
    "import pandas as pd\n",
    "data = pd.read_csv(\"toy dataset.csv\")"
   ]
  },
  {
   "cell_type": "markdown",
   "metadata": {
    "id": "_k6s-s1ZcMf-"
   },
   "source": [
    "Data Loading"
   ]
  },
  {
   "cell_type": "code",
   "execution_count": null,
   "metadata": {
    "colab": {
     "base_uri": "https://localhost:8080/",
     "height": 514
    },
    "id": "vpl2YzjHpOeC",
    "outputId": "7fb4ba2c-e67e-4f6a-b13d-2cbc23755afa"
   },
   "outputs": [
    {
     "data": {
      "text/html": [
       "<div>\n",
       "<style scoped>\n",
       "    .dataframe tbody tr th:only-of-type {\n",
       "        vertical-align: middle;\n",
       "    }\n",
       "\n",
       "    .dataframe tbody tr th {\n",
       "        vertical-align: top;\n",
       "    }\n",
       "\n",
       "    .dataframe thead th {\n",
       "        text-align: right;\n",
       "    }\n",
       "</style>\n",
       "<table border=\"1\" class=\"dataframe\">\n",
       "  <thead>\n",
       "    <tr style=\"text-align: right;\">\n",
       "      <th></th>\n",
       "      <th>SNo</th>\n",
       "      <th>Name</th>\n",
       "      <th>Gender</th>\n",
       "      <th>Height</th>\n",
       "      <th>Output</th>\n",
       "    </tr>\n",
       "  </thead>\n",
       "  <tbody>\n",
       "    <tr>\n",
       "      <th>0</th>\n",
       "      <td>1</td>\n",
       "      <td>A</td>\n",
       "      <td>F</td>\n",
       "      <td>1.60</td>\n",
       "      <td>S</td>\n",
       "    </tr>\n",
       "    <tr>\n",
       "      <th>1</th>\n",
       "      <td>2</td>\n",
       "      <td>B</td>\n",
       "      <td>M</td>\n",
       "      <td>2.00</td>\n",
       "      <td>T</td>\n",
       "    </tr>\n",
       "    <tr>\n",
       "      <th>2</th>\n",
       "      <td>3</td>\n",
       "      <td>C</td>\n",
       "      <td>F</td>\n",
       "      <td>1.90</td>\n",
       "      <td>M</td>\n",
       "    </tr>\n",
       "    <tr>\n",
       "      <th>3</th>\n",
       "      <td>4</td>\n",
       "      <td>D</td>\n",
       "      <td>F</td>\n",
       "      <td>1.88</td>\n",
       "      <td>M</td>\n",
       "    </tr>\n",
       "    <tr>\n",
       "      <th>4</th>\n",
       "      <td>5</td>\n",
       "      <td>E</td>\n",
       "      <td>F</td>\n",
       "      <td>1.70</td>\n",
       "      <td>S</td>\n",
       "    </tr>\n",
       "    <tr>\n",
       "      <th>5</th>\n",
       "      <td>6</td>\n",
       "      <td>F</td>\n",
       "      <td>M</td>\n",
       "      <td>1.85</td>\n",
       "      <td>M</td>\n",
       "    </tr>\n",
       "    <tr>\n",
       "      <th>6</th>\n",
       "      <td>7</td>\n",
       "      <td>G</td>\n",
       "      <td>F</td>\n",
       "      <td>1.60</td>\n",
       "      <td>S</td>\n",
       "    </tr>\n",
       "    <tr>\n",
       "      <th>7</th>\n",
       "      <td>8</td>\n",
       "      <td>H</td>\n",
       "      <td>M</td>\n",
       "      <td>1.70</td>\n",
       "      <td>S</td>\n",
       "    </tr>\n",
       "    <tr>\n",
       "      <th>8</th>\n",
       "      <td>9</td>\n",
       "      <td>I</td>\n",
       "      <td>M</td>\n",
       "      <td>2.20</td>\n",
       "      <td>T</td>\n",
       "    </tr>\n",
       "    <tr>\n",
       "      <th>9</th>\n",
       "      <td>10</td>\n",
       "      <td>J</td>\n",
       "      <td>M</td>\n",
       "      <td>2.10</td>\n",
       "      <td>T</td>\n",
       "    </tr>\n",
       "    <tr>\n",
       "      <th>10</th>\n",
       "      <td>11</td>\n",
       "      <td>K</td>\n",
       "      <td>F</td>\n",
       "      <td>1.80</td>\n",
       "      <td>M</td>\n",
       "    </tr>\n",
       "    <tr>\n",
       "      <th>11</th>\n",
       "      <td>12</td>\n",
       "      <td>L</td>\n",
       "      <td>M</td>\n",
       "      <td>1.95</td>\n",
       "      <td>M</td>\n",
       "    </tr>\n",
       "    <tr>\n",
       "      <th>12</th>\n",
       "      <td>13</td>\n",
       "      <td>M</td>\n",
       "      <td>F</td>\n",
       "      <td>1.90</td>\n",
       "      <td>M</td>\n",
       "    </tr>\n",
       "    <tr>\n",
       "      <th>13</th>\n",
       "      <td>14</td>\n",
       "      <td>N</td>\n",
       "      <td>F</td>\n",
       "      <td>1.80</td>\n",
       "      <td>M</td>\n",
       "    </tr>\n",
       "    <tr>\n",
       "      <th>14</th>\n",
       "      <td>15</td>\n",
       "      <td>O</td>\n",
       "      <td>F</td>\n",
       "      <td>1.75</td>\n",
       "      <td>M</td>\n",
       "    </tr>\n",
       "  </tbody>\n",
       "</table>\n",
       "</div>"
      ],
      "text/plain": [
       "    SNo Name Gender  Height Output\n",
       "0     1    A      F    1.60      S\n",
       "1     2    B      M    2.00      T\n",
       "2     3    C      F    1.90      M\n",
       "3     4    D      F    1.88      M\n",
       "4     5    E      F    1.70      S\n",
       "5     6    F      M    1.85      M\n",
       "6     7    G      F    1.60      S\n",
       "7     8    H      M    1.70      S\n",
       "8     9    I      M    2.20      T\n",
       "9    10    J      M    2.10      T\n",
       "10   11    K      F    1.80      M\n",
       "11   12    L      M    1.95      M\n",
       "12   13    M      F    1.90      M\n",
       "13   14    N      F    1.80      M\n",
       "14   15    O      F    1.75      M"
      ]
     },
     "execution_count": 4,
     "metadata": {
      "tags": []
     },
     "output_type": "execute_result"
    }
   ],
   "source": [
    "data"
   ]
  },
  {
   "cell_type": "code",
   "execution_count": null,
   "metadata": {
    "id": "m5UgbP8zo_94"
   },
   "outputs": [],
   "source": [
    "data.drop(labels=\"SNo\",inplace=True,axis=1)"
   ]
  },
  {
   "cell_type": "code",
   "execution_count": null,
   "metadata": {
    "colab": {
     "base_uri": "https://localhost:8080/",
     "height": 514
    },
    "id": "kqVw3o4TpXMX",
    "outputId": "c0eeeca8-0987-4b1d-ac91-1db2b5f86b8b"
   },
   "outputs": [
    {
     "data": {
      "text/html": [
       "<div>\n",
       "<style scoped>\n",
       "    .dataframe tbody tr th:only-of-type {\n",
       "        vertical-align: middle;\n",
       "    }\n",
       "\n",
       "    .dataframe tbody tr th {\n",
       "        vertical-align: top;\n",
       "    }\n",
       "\n",
       "    .dataframe thead th {\n",
       "        text-align: right;\n",
       "    }\n",
       "</style>\n",
       "<table border=\"1\" class=\"dataframe\">\n",
       "  <thead>\n",
       "    <tr style=\"text-align: right;\">\n",
       "      <th></th>\n",
       "      <th>Name</th>\n",
       "      <th>Gender</th>\n",
       "      <th>Height</th>\n",
       "      <th>Output</th>\n",
       "    </tr>\n",
       "  </thead>\n",
       "  <tbody>\n",
       "    <tr>\n",
       "      <th>0</th>\n",
       "      <td>A</td>\n",
       "      <td>F</td>\n",
       "      <td>1.60</td>\n",
       "      <td>S</td>\n",
       "    </tr>\n",
       "    <tr>\n",
       "      <th>1</th>\n",
       "      <td>B</td>\n",
       "      <td>M</td>\n",
       "      <td>2.00</td>\n",
       "      <td>T</td>\n",
       "    </tr>\n",
       "    <tr>\n",
       "      <th>2</th>\n",
       "      <td>C</td>\n",
       "      <td>F</td>\n",
       "      <td>1.90</td>\n",
       "      <td>M</td>\n",
       "    </tr>\n",
       "    <tr>\n",
       "      <th>3</th>\n",
       "      <td>D</td>\n",
       "      <td>F</td>\n",
       "      <td>1.88</td>\n",
       "      <td>M</td>\n",
       "    </tr>\n",
       "    <tr>\n",
       "      <th>4</th>\n",
       "      <td>E</td>\n",
       "      <td>F</td>\n",
       "      <td>1.70</td>\n",
       "      <td>S</td>\n",
       "    </tr>\n",
       "    <tr>\n",
       "      <th>5</th>\n",
       "      <td>F</td>\n",
       "      <td>M</td>\n",
       "      <td>1.85</td>\n",
       "      <td>M</td>\n",
       "    </tr>\n",
       "    <tr>\n",
       "      <th>6</th>\n",
       "      <td>G</td>\n",
       "      <td>F</td>\n",
       "      <td>1.60</td>\n",
       "      <td>S</td>\n",
       "    </tr>\n",
       "    <tr>\n",
       "      <th>7</th>\n",
       "      <td>H</td>\n",
       "      <td>M</td>\n",
       "      <td>1.70</td>\n",
       "      <td>S</td>\n",
       "    </tr>\n",
       "    <tr>\n",
       "      <th>8</th>\n",
       "      <td>I</td>\n",
       "      <td>M</td>\n",
       "      <td>2.20</td>\n",
       "      <td>T</td>\n",
       "    </tr>\n",
       "    <tr>\n",
       "      <th>9</th>\n",
       "      <td>J</td>\n",
       "      <td>M</td>\n",
       "      <td>2.10</td>\n",
       "      <td>T</td>\n",
       "    </tr>\n",
       "    <tr>\n",
       "      <th>10</th>\n",
       "      <td>K</td>\n",
       "      <td>F</td>\n",
       "      <td>1.80</td>\n",
       "      <td>M</td>\n",
       "    </tr>\n",
       "    <tr>\n",
       "      <th>11</th>\n",
       "      <td>L</td>\n",
       "      <td>M</td>\n",
       "      <td>1.95</td>\n",
       "      <td>M</td>\n",
       "    </tr>\n",
       "    <tr>\n",
       "      <th>12</th>\n",
       "      <td>M</td>\n",
       "      <td>F</td>\n",
       "      <td>1.90</td>\n",
       "      <td>M</td>\n",
       "    </tr>\n",
       "    <tr>\n",
       "      <th>13</th>\n",
       "      <td>N</td>\n",
       "      <td>F</td>\n",
       "      <td>1.80</td>\n",
       "      <td>M</td>\n",
       "    </tr>\n",
       "    <tr>\n",
       "      <th>14</th>\n",
       "      <td>O</td>\n",
       "      <td>F</td>\n",
       "      <td>1.75</td>\n",
       "      <td>M</td>\n",
       "    </tr>\n",
       "  </tbody>\n",
       "</table>\n",
       "</div>"
      ],
      "text/plain": [
       "   Name Gender  Height Output\n",
       "0     A      F    1.60      S\n",
       "1     B      M    2.00      T\n",
       "2     C      F    1.90      M\n",
       "3     D      F    1.88      M\n",
       "4     E      F    1.70      S\n",
       "5     F      M    1.85      M\n",
       "6     G      F    1.60      S\n",
       "7     H      M    1.70      S\n",
       "8     I      M    2.20      T\n",
       "9     J      M    2.10      T\n",
       "10    K      F    1.80      M\n",
       "11    L      M    1.95      M\n",
       "12    M      F    1.90      M\n",
       "13    N      F    1.80      M\n",
       "14    O      F    1.75      M"
      ]
     },
     "execution_count": 6,
     "metadata": {
      "tags": []
     },
     "output_type": "execute_result"
    }
   ],
   "source": [
    "data"
   ]
  },
  {
   "cell_type": "code",
   "execution_count": null,
   "metadata": {
    "id": "O-KQ9OOizKH7"
   },
   "outputs": [],
   "source": [
    "data1 = data[[\"Gender\",\"Height\",\"Output\"]]"
   ]
  },
  {
   "cell_type": "markdown",
   "metadata": {
    "id": "pFRDCM5gy_1q"
   },
   "source": [
    "### Proprocessing Data - converting categorical variable to numerical attribute"
   ]
  },
  {
   "cell_type": "code",
   "execution_count": null,
   "metadata": {
    "colab": {
     "base_uri": "https://localhost:8080/"
    },
    "id": "p2EYOXMZvQ81",
    "outputId": "c0d73f49-2a26-4255-a43b-44796f1fc445"
   },
   "outputs": [
    {
     "name": "stderr",
     "output_type": "stream",
     "text": [
      "/usr/local/lib/python3.7/dist-packages/pandas/core/series.py:4582: SettingWithCopyWarning: \n",
      "A value is trying to be set on a copy of a slice from a DataFrame\n",
      "\n",
      "See the caveats in the documentation: https://pandas.pydata.org/pandas-docs/stable/user_guide/indexing.html#returning-a-view-versus-a-copy\n",
      "  method=method,\n"
     ]
    }
   ],
   "source": [
    "data1[\"Gender\"].replace({\"M\":0,\"F\":1},inplace=True)\n",
    "data1[\"Output\"].replace({\"S\":0,\"M\":1,\"T\":2},inplace=True)"
   ]
  },
  {
   "cell_type": "markdown",
   "metadata": {
    "id": "lvCDML0M0Gg0"
   },
   "source": [
    "### Data matrix and class columns"
   ]
  },
  {
   "cell_type": "code",
   "execution_count": null,
   "metadata": {
    "id": "B3r_E0aT0Feg"
   },
   "outputs": [],
   "source": [
    "from sklearn.model_selection import train_test_split\n",
    "X = data1.drop(\"Output\",axis=1)\n",
    "y = data1[\"Output\"]"
   ]
  },
  {
   "cell_type": "code",
   "execution_count": null,
   "metadata": {
    "id": "n32np2i136Gv"
   },
   "outputs": [],
   "source": [
    "import numpy as np\n",
    "from math import exp\n",
    "from math import sqrt\n",
    "from math import pi"
   ]
  },
  {
   "cell_type": "markdown",
   "metadata": {
    "id": "uqmpavamcmQZ"
   },
   "source": [
    "This function is used to get class label of the data"
   ]
  },
  {
   "cell_type": "code",
   "execution_count": null,
   "metadata": {
    "id": "kf7BLXuMOwFH"
   },
   "outputs": [],
   "source": [
    "def getting_class_label(y):\n",
    "  label = []\n",
    "  for value in y:\n",
    "    if value not in label:\n",
    "      label.append(value)\n",
    "  return sorted(label)"
   ]
  },
  {
   "cell_type": "markdown",
   "metadata": {
    "id": "a9Np7A84cr4h"
   },
   "source": [
    "This function returns the prior probaility of class"
   ]
  },
  {
   "cell_type": "code",
   "execution_count": null,
   "metadata": {
    "id": "QV6cOsAnOpfD"
   },
   "outputs": [],
   "source": [
    "def prior_prob_of_class(X,y,class_label):\n",
    "  total_datapoint = len(y)\n",
    "  class_count = 0\n",
    "  for index in range(len(y)):\n",
    "    if y[index]==class_label:\n",
    "      class_count +=1\n",
    "  return class_count/total_datapoint"
   ]
  },
  {
   "cell_type": "markdown",
   "metadata": {
    "id": "x36725VIcw1K"
   },
   "source": [
    "This function is used to calculate probability for numerical attribute using guassain probability density function\n",
    "\n",
    "![image.png](data:image/png;base64,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)"
   ]
  },
  {
   "cell_type": "code",
   "execution_count": null,
   "metadata": {
    "id": "T9QUvKan4NIF"
   },
   "outputs": [],
   "source": [
    "def gaussian_prob(X,y,query_value,class_label):\n",
    "  height_value = []\n",
    "  for index in range(len(y)):\n",
    "    if y[index]==class_label:\n",
    "      height_value.append(X[index])\n",
    "  mean = np.mean(height_value)\n",
    "  std = np.std(height_value)\n",
    "  return (exp((-1)*((query_value-mean)**2)/(2*(std**2))))/std*(sqrt(2*pi))"
   ]
  },
  {
   "cell_type": "markdown",
   "metadata": {
    "id": "kYXFxdW2dCgk"
   },
   "source": [
    "This function is used to calculate probability for categorical variable.\n",
    "\n",
    "In order to avoid zero probability problem, we used laplace smoothing where value of alpha is 1 in below equation\n",
    "![image.png](data:image/png;base64,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)"
   ]
  },
  {
   "cell_type": "code",
   "execution_count": null,
   "metadata": {
    "id": "Rg3XNQPWIJCH"
   },
   "outputs": [],
   "source": [
    "def categorical_prob(X,y,query_value,class_label):\n",
    "  query_count = 0\n",
    "  class_count = 0\n",
    "  alpha = 1\n",
    "  for index in range(len(X)):\n",
    "    if X[index]==query_value:\n",
    "      query_count+=1\n",
    "      if y[index]==class_label:\n",
    "        class_count+=1\n",
    "  feature_unique_value = len(X.value_counts())\n",
    "  prob = ((query_count+alpha)/(alpha*feature_unique_value+class_count))\n",
    "  return prob"
   ]
  },
  {
   "cell_type": "markdown",
   "metadata": {
    "id": "w0y5lGR3djak"
   },
   "source": [
    "This function calculates the probability for datapoints belonging to each class"
   ]
  },
  {
   "cell_type": "code",
   "execution_count": null,
   "metadata": {
    "id": "t-Yi9cjC0y1r"
   },
   "outputs": [],
   "source": [
    "def calculate_prob(X,y,query_gender,query_height):\n",
    "  class_labels  = getting_class_label(y)\n",
    "  posterior_prob = [0 for i in range(len(class_labels))]\n",
    "  for class_label in class_labels:\n",
    "    total_prob = 1\n",
    "    for col in X.columns:\n",
    "    # https://thispointer.com/how-to-get-check-data-types-of-dataframe-columns-in-python-pandas/\n",
    "      if X.dtypes[col]==np.float:\n",
    "        prob = gaussian_prob(X[col],y,query_height,class_label) \n",
    "      else:\n",
    "        prob = categorical_prob(X[col],y,query_gender,class_label)\n",
    "      total_prob *= prob\n",
    "    posterior_prob[int(class_label)]=prior_prob_of_class(X,y,class_label)*total_prob\n",
    "  return posterior_prob"
   ]
  },
  {
   "cell_type": "markdown",
   "metadata": {
    "id": "tCQFELCydrtE"
   },
   "source": [
    "This function return the class label of datapoint with highest probability"
   ]
  },
  {
   "cell_type": "code",
   "execution_count": null,
   "metadata": {
    "id": "lP7jId9kgaIK"
   },
   "outputs": [],
   "source": [
    "def predict_prob(Name,gender,height):\n",
    "  if gender==\"M\":\n",
    "    prob = calculate_prob(X,y,0,height)\n",
    "  else:\n",
    "    prob = calculate_prob(X,y,1,height)\n",
    "  class_pred = prob.index(max(prob))\n",
    "  if class_pred==0:\n",
    "    print(\"{} belongs to short category of people\".format(Name))\n",
    "  elif class_pred==1:\n",
    "     print(\"{} belongs to Medium category of people\".format(Name))\n",
    "  else:\n",
    "    print(\"{} belongs to Tall category of people\".format(Name))"
   ]
  },
  {
   "cell_type": "markdown",
   "metadata": {
    "id": "mxVXQstPaXEo"
   },
   "source": [
    "Enter test query in the following order:\n",
    "\n",
    "1. Name \n",
    "2. Gender - M for male and F for female\n",
    "3. Height"
   ]
  },
  {
   "cell_type": "code",
   "execution_count": null,
   "metadata": {
    "colab": {
     "base_uri": "https://localhost:8080/"
    },
    "id": "D1F_bYfNXWwb",
    "outputId": "853d1de0-4ad7-42b8-86ad-40337308dca8"
   },
   "outputs": [
    {
     "name": "stdout",
     "output_type": "stream",
     "text": [
      "M\n",
      "M\n",
      "1.96\n",
      "M belongs to Medium category of people\n"
     ]
    }
   ],
   "source": [
    "Name = input()\n",
    "Gender = input()\n",
    "Height = float(input())\n",
    "predict_prob(Name,Gender,Height)"
   ]
  },
  {
   "cell_type": "markdown",
   "metadata": {
    "id": "t7P0gNrcgb-u"
   },
   "source": [
    "Conclusion - \n",
    "1. Because of assumption of independent attribute, peformance of naive bayes classifiers decreases.\n",
    "2. Time taken by Naive bayes during test time is very less as it stores probability during training of the model"
   ]
  }
 ],
 "metadata": {
  "colab": {
   "name": "Naive bayes.ipynb",
   "provenance": []
  },
  "kernelspec": {
   "display_name": "Python 3",
   "language": "python",
   "name": "python3"
  },
  "language_info": {
   "codemirror_mode": {
    "name": "ipython",
    "version": 3
   },
   "file_extension": ".py",
   "mimetype": "text/x-python",
   "name": "python",
   "nbconvert_exporter": "python",
   "pygments_lexer": "ipython3",
   "version": "3.8.3"
  }
 },
 "nbformat": 4,
 "nbformat_minor": 1
}
